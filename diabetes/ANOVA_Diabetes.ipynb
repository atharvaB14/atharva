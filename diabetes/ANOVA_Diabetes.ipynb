{
 "cells": [
  {
   "cell_type": "code",
   "execution_count": null,
   "metadata": {
    "id": "Nf7UzT0dP07S"
   },
   "outputs": [],
   "source": [
    "import pandas as pd\n",
    "import numpy as np\n",
    "import matplotlib.pyplot as plt\n",
    "import seaborn as sns\n",
    "import plotly.express as px\n",
    "import plotly.graph_objects as go\n",
    "import os"
   ]
  },
  {
   "cell_type": "code",
   "execution_count": null,
   "metadata": {
    "colab": {
     "base_uri": "https://localhost:8080/",
     "height": 255
    },
    "id": "ngnhmdz9pNLR",
    "outputId": "ae8f381e-9caf-46fd-f79c-a0f643e59b5e"
   },
   "outputs": [],
   "source": [
    "# Load the dataset\n",
    "url = \"https://raw.githubusercontent.com/kuchbhi-kunal/nidan/main/diabetes_binary_5050split_health_indicators_BRFSS2015.csv\"\n",
    "df = pd.read_csv(url)\n",
    "\n",
    "# Explore the dataset\n",
    "df.head()"
   ]
  },
  {
   "cell_type": "code",
   "execution_count": null,
   "metadata": {
    "colab": {
     "base_uri": "https://localhost:8080/"
    },
    "id": "n0CsbkZOJ3HZ",
    "outputId": "807eefb9-ef1d-47a2-efcc-ec89067573da"
   },
   "outputs": [],
   "source": [
    "import statsmodels.api as sm\n",
    "from statsmodels.formula.api import ols\n",
    "from scipy.stats import f_oneway\n",
    "# import pandas as pd\n",
    "\n",
    "# Assuming 'data' is your DataFrame containing the dataset\n",
    "\n",
    "# Fit the ANOVA model\n",
    "model = ols('HighBP ~ C(Diabetes_binary)', data=df).fit()\n",
    "\n",
    "# Perform ANOVA\n",
    "anova_table = sm.stats.anova_lm(model, typ=2)\n",
    "\n",
    "# Print ANOVA table\n",
    "print(anova_table)\n",
    "\n",
    "# Interpret the results - Check the p-value in the ANOVA table for 'C(waterfront)'\n",
    "alpha = 0.05 # significance level\n",
    "if anova_table['PR(>F)']['C(Diabetes_binary)'] < alpha:\n",
    "  print(\"Reject the null hypothesis - There are significant differences in High Blood Pressure (HighBP) between individuals with and without diabetes.\")\n",
    "else:\n",
    "  print(\"Fail to reject the null hypothesis - There are no significant differences in High Blood Pressure (HighBP) between individuals with and without diabetes.\")\n",
    "\n",
    "sqft_living_no_waterfront = df[df['Diabetes_binary'] == 0]['HighBP']\n",
    "sqft_living_waterfront = df[df['Diabetes_binary'] == 1]['HighBP']\n",
    "\n",
    "# Perform ANOVA test\n",
    "f_statistic, p_value = f_oneway(sqft_living_no_waterfront, sqft_living_waterfront)\n",
    "\n",
    "# Print the results\n",
    "print(\"F statistic:\", f_statistic)\n",
    "print(\"P-value:\", p_value)\n",
    "\n",
    "# Interpret the results\n",
    "alpha = 0.05 # significance level\n",
    "if p_value < alpha:\n",
    "  print(\"Reject the null hypothesis - There are significant differences in High Blood Pressure (HighBP) between individuals with and without diabetes.\")\n",
    "else:\n",
    "  print(\"Fail to reject the null hypothesis - There are no significant differences in High Blood Pressure (HighBP) between individuals with and without diabetes.\")"
   ]
  },
  {
   "cell_type": "code",
   "execution_count": null,
   "metadata": {},
   "outputs": [],
   "source": []
  }
 ],
 "metadata": {
  "colab": {
   "provenance": []
  },
  "kernelspec": {
   "display_name": "Python 3 (ipykernel)",
   "language": "python",
   "name": "python3"
  },
  "language_info": {
   "codemirror_mode": {
    "name": "ipython",
    "version": 3
   },
   "file_extension": ".py",
   "mimetype": "text/x-python",
   "name": "python",
   "nbconvert_exporter": "python",
   "pygments_lexer": "ipython3",
   "version": "3.11.7"
  }
 },
 "nbformat": 4,
 "nbformat_minor": 4
}
